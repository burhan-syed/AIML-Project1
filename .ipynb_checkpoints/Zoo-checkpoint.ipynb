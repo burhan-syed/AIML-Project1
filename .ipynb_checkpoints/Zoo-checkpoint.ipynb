{
 "cells": [
  {
   "cell_type": "code",
   "execution_count": 1,
   "metadata": {},
   "outputs": [],
   "source": [
    "#Project 1, Zoo dataset\n",
    "\n",
    "authors = [\"Burhan Syed\", \"Gabby Mueller\"]\n"
   ]
  },
  {
   "cell_type": "code",
   "execution_count": 2,
   "metadata": {},
   "outputs": [],
   "source": [
    "import numpy as np\n",
    "import matplotlib.pyplot as plt\n",
    "from matplotlib.colors import ListedColormap\n",
    "import matplotlib as mpl\n",
    "import pandas as pd\n",
    "import seaborn as sns\n",
    "from sklearn import (datasets, metrics,\n",
    "                     model_selection as skms,\n",
    "                     naive_bayes, neighbors, dummy)"
   ]
  },
  {
   "cell_type": "code",
   "execution_count": 3,
   "metadata": {},
   "outputs": [
    {
     "name": "stdout",
     "output_type": "stream",
     "text": [
      "<class 'pandas.core.frame.DataFrame'>\n",
      "RangeIndex: 69 entries, 0 to 68\n",
      "Data columns (total 19 columns):\n",
      "id          69 non-null int64\n",
      "name        69 non-null object\n",
      "hair        69 non-null int64\n",
      "feathers    69 non-null int64\n",
      "eggs        69 non-null int64\n",
      "milk        69 non-null int64\n",
      "airborne    69 non-null int64\n",
      "aquatic     69 non-null int64\n",
      "predator    69 non-null int64\n",
      "toothed     69 non-null int64\n",
      "backbone    69 non-null int64\n",
      "breathes    69 non-null int64\n",
      "venomous    69 non-null int64\n",
      "fins        69 non-null int64\n",
      "legs        69 non-null int64\n",
      "tail        69 non-null int64\n",
      "domestic    69 non-null int64\n",
      "catsize     69 non-null int64\n",
      "class       69 non-null int64\n",
      "dtypes: int64(18), object(1)\n",
      "memory usage: 10.4+ KB\n"
     ]
    },
    {
     "data": {
      "text/plain": [
       "None"
      ]
     },
     "metadata": {},
     "output_type": "display_data"
    }
   ],
   "source": [
    "#setting up\n",
    "zoo_original_df = pd.read_csv('zoo_train.csv')\n",
    "#display(zoo_original_df)\n",
    "features_to_analyze=['hair',\n",
    "                    'feathers',\n",
    "                    'eggs',\n",
    "                    'milk',\n",
    "                    'airborne',\n",
    "                    #'aquatic',\n",
    "                    #'toothed',\n",
    "                    'backbone',\n",
    "                    'breathes',\n",
    "                    #'fins',\n",
    "                    'legs'\n",
    "                    ]\n",
    "\n",
    "display(zoo_original_df.info())\n",
    "zoo_original_df.dropna(inplace=True)\n",
    "zoo_tgt = zoo_original_df['class']\n",
    "zoo_ftrs = zoo_original_df[features_to_analyze]\n"
   ]
  },
  {
   "cell_type": "code",
   "execution_count": 4,
   "metadata": {},
   "outputs": [
    {
     "name": "stdout",
     "output_type": "stream",
     "text": [
      "Train: 0.49\n",
      "Validation: 0.25\n",
      "Test: 0.26\n"
     ]
    }
   ],
   "source": [
    "#splitting for train,test\n",
    "\n",
    "(zoo_train_p_validation_ftrs, zoo_test_ftrs,\n",
    "zoo_train_p_validation_tgt, zoo_test_tgt) = skms.train_test_split(zoo_ftrs,\n",
    "                                                                 zoo_tgt,\n",
    "                                                                 test_size=.25)\n",
    "(zoo_train_ftrs, zoo_validation_ftrs,\n",
    "zoo_train_tgt, zoo_validation_tgt) = skms.train_test_split(zoo_train_p_validation_ftrs,\n",
    "                                                          zoo_train_p_validation_tgt,\n",
    "                                                          test_size=.33,\n",
    "                                                          random_state = 20)\n",
    "\n",
    "print(f'Train: {len(zoo_train_tgt)/len(zoo_original_df):.2f}')\n",
    "print(f'Validation: {len(zoo_validation_tgt)/len(zoo_original_df):.2f}')\n",
    "print(f'Test: {len(zoo_test_tgt)/len(zoo_original_df):.2f}')\n",
    "#display(zoo_train_ftrs)\n",
    "#display(zoo_train_tgt)"
   ]
  },
  {
   "cell_type": "code",
   "execution_count": 5,
   "metadata": {},
   "outputs": [],
   "source": [
    "#training models\n",
    "models = {\n",
    "    'Baseline' : dummy.DummyClassifier(strategy = 'most_frequent'),\n",
    "    'Naive Bayes' : naive_bayes.GaussianNB(),\n",
    "}\n",
    "for k in range (1,10,2): \n",
    "    models[f'{k}-NN'] = neighbors.KNeighborsClassifier(n_neighbors = k)"
   ]
  },
  {
   "cell_type": "code",
   "execution_count": 6,
   "metadata": {},
   "outputs": [
    {
     "data": {
      "text/plain": [
       "'\\nfig,ax = plt.subplots(figsize=(6,4))\\nfor name, model in models.items():\\n    cv_scores = skms.cross_val_score(model,\\n                                    zoo_train_p_validation_ftrs, \\n                                    zoo_train_p_validation_tgt,\\n                                     cv=5,\\n                                     scoring=\\'accuracy\\',\\n                                    )\\n    my_lbl=\"{} ; mean score: {:.3f}\".format(name,cv_scores.mean())\\n    ax.plot(cv_scores,label=my_lbl)#,marker=next(markers))\\n    ax.set_ylim(0.0,1,1)\\n    ax.set_xlabel(\\'Fold\\')\\n    ax.set_ylabel(\\'Accuracy\\')\\n    ax.legend(loc=\\'lower center\\', ncol=2);\\n'"
      ]
     },
     "execution_count": 6,
     "metadata": {},
     "output_type": "execute_result"
    }
   ],
   "source": [
    "'''\n",
    "fig,ax = plt.subplots(figsize=(6,4))\n",
    "for name, model in models.items():\n",
    "    cv_scores = skms.cross_val_score(model,\n",
    "                                    zoo_train_p_validation_ftrs, \n",
    "                                    zoo_train_p_validation_tgt,\n",
    "                                     cv=5,\n",
    "                                     scoring='accuracy',\n",
    "                                    )\n",
    "    my_lbl=\"{} ; mean score: {:.3f}\".format(name,cv_scores.mean())\n",
    "    ax.plot(cv_scores,label=my_lbl)#,marker=next(markers))\n",
    "    ax.set_ylim(0.0,1,1)\n",
    "    ax.set_xlabel('Fold')\n",
    "    ax.set_ylabel('Accuracy')\n",
    "    ax.legend(loc='lower center', ncol=2);\n",
    "'''"
   ]
  },
  {
   "cell_type": "code",
   "execution_count": 7,
   "metadata": {},
   "outputs": [
    {
     "name": "stdout",
     "output_type": "stream",
     "text": [
      "model: Baseline, acc: 0.41\n",
      "model: Naive Bayes, acc: 0.94\n",
      "model: 1-NN, acc: 0.94\n",
      "model: 3-NN, acc: 0.82\n",
      "model: 5-NN, acc: 0.82\n",
      "model: 7-NN, acc: 0.82\n",
      "model: 9-NN, acc: 0.82\n"
     ]
    }
   ],
   "source": [
    "accs = {}\n",
    "acc_models = {}\n",
    "for model in models: \n",
    "    fit = models[model].fit(zoo_train_ftrs, zoo_train_tgt)\n",
    "    pred = fit.predict(zoo_validation_ftrs)\n",
    "    acc = metrics.accuracy_score(zoo_validation_tgt, pred)\n",
    "    acc_models[model] = acc\n",
    "    print(f'model: {model}, acc: {acc:0.2f}')\n",
    "    #cm = metrics.confusion_matrix(zoo_validation_tgt, pred, labels=zoo_validation_tgt.unique())\n",
    "    #fig,ax=plt.subplots(1,1,figsize=(4,4))\n",
    "    #ax=sns.heatmap(cm, annot=True,square=True,\n",
    "                   #xticklabels=zoo_validation_tgt.unique(),\n",
    "                   #yticklabels=zoo_validation_tgt.unique())\n",
    "    #ax.set_xlabel('Predicted')\n",
    "    #ax.set_ylabel('Actual')"
   ]
  },
  {
   "cell_type": "code",
   "execution_count": 8,
   "metadata": {},
   "outputs": [
    {
     "name": "stdout",
     "output_type": "stream",
     "text": [
      "Best model: Naive Bayes; ACC: 0.94\n"
     ]
    }
   ],
   "source": [
    "best_model_name = max(acc_models,key=acc_models.get)\n",
    "print(f'Best model: {best_model_name}; ACC: {acc_models[best_model_name]:.2f}')"
   ]
  },
  {
   "cell_type": "code",
   "execution_count": 9,
   "metadata": {},
   "outputs": [
    {
     "name": "stdout",
     "output_type": "stream",
     "text": [
      "Best model: Naive Bayes; test acc: 1.00\n"
     ]
    }
   ],
   "source": [
    "#testing\n",
    "best_model = naive_bayes.GaussianNB()#neighbors.KNeighborsClassifier(n_neighbors=1)\n",
    "fit = models[best_model_name].fit(zoo_train_ftrs,zoo_train_tgt)\n",
    "pred = fit.predict(zoo_test_ftrs)\n",
    "acc = metrics.accuracy_score(zoo_test_tgt,pred)\n",
    "print(f'Best model: {best_model_name}; test acc: {acc:0.2f}')"
   ]
  },
  {
   "cell_type": "code",
   "execution_count": 13,
   "metadata": {},
   "outputs": [],
   "source": [
    "# Test set\n",
    "zoo_test_df = pd.read_csv('zoo_test.csv')\n",
    "#display(zoo_test_df)"
   ]
  },
  {
   "cell_type": "code",
   "execution_count": 15,
   "metadata": {},
   "outputs": [
    {
     "data": {
      "text/plain": [
       "array([1, 1, 2, 7, 4, 1, 1, 4, 7, 2, 2, 3, 3, 4, 2, 1, 7, 4, 2, 7, 5, 5,\n",
       "       5, 4, 1, 1, 2, 1, 6, 1, 3, 2])"
      ]
     },
     "metadata": {},
     "output_type": "display_data"
    }
   ],
   "source": [
    "zoo_test_ftrs = zoo_test_df[features_to_analyze]\n",
    "pred = fit.predict(zoo_test_ftrs)\n",
    "display(pred)"
   ]
  },
  {
   "cell_type": "code",
   "execution_count": null,
   "metadata": {},
   "outputs": [],
   "source": []
  }
 ],
 "metadata": {
  "kernelspec": {
   "display_name": "Python 3",
   "language": "python",
   "name": "python3"
  },
  "language_info": {
   "codemirror_mode": {
    "name": "ipython",
    "version": 3
   },
   "file_extension": ".py",
   "mimetype": "text/x-python",
   "name": "python",
   "nbconvert_exporter": "python",
   "pygments_lexer": "ipython3",
   "version": "3.7.4"
  }
 },
 "nbformat": 4,
 "nbformat_minor": 4
}
